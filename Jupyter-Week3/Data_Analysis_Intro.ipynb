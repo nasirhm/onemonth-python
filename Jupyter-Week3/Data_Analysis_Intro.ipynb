{
 "cells": [
  {
   "cell_type": "markdown",
   "metadata": {},
   "source": [
    "# Import Pandas"
   ]
  },
  {
   "cell_type": "code",
   "execution_count": 55,
   "metadata": {},
   "outputs": [],
   "source": [
    "import pandas as pd"
   ]
  },
  {
   "cell_type": "markdown",
   "metadata": {},
   "source": [
    "# Importing Data"
   ]
  },
  {
   "cell_type": "code",
   "execution_count": 56,
   "metadata": {},
   "outputs": [],
   "source": [
    "name = ['id', 'name', 'year', 'Rating', 'Votes', 'Time', 'Genre']\n",
    "data = pd.read_csv('imdb_top_10000.txt',sep=\"\\t\", names=name, index_col=0)"
   ]
  },
  {
   "cell_type": "markdown",
   "metadata": {},
   "source": [
    "# Exploring our Data"
   ]
  },
  {
   "cell_type": "code",
   "execution_count": 57,
   "metadata": {},
   "outputs": [
    {
     "data": {
      "text/html": [
       "<div>\n",
       "<style scoped>\n",
       "    .dataframe tbody tr th:only-of-type {\n",
       "        vertical-align: middle;\n",
       "    }\n",
       "\n",
       "    .dataframe tbody tr th {\n",
       "        vertical-align: top;\n",
       "    }\n",
       "\n",
       "    .dataframe thead th {\n",
       "        text-align: right;\n",
       "    }\n",
       "</style>\n",
       "<table border=\"1\" class=\"dataframe\">\n",
       "  <thead>\n",
       "    <tr style=\"text-align: right;\">\n",
       "      <th></th>\n",
       "      <th>name</th>\n",
       "      <th>year</th>\n",
       "      <th>Rating</th>\n",
       "      <th>Votes</th>\n",
       "      <th>Time</th>\n",
       "      <th>Genre</th>\n",
       "    </tr>\n",
       "    <tr>\n",
       "      <th>id</th>\n",
       "      <th></th>\n",
       "      <th></th>\n",
       "      <th></th>\n",
       "      <th></th>\n",
       "      <th></th>\n",
       "      <th></th>\n",
       "    </tr>\n",
       "  </thead>\n",
       "  <tbody>\n",
       "    <tr>\n",
       "      <td>tt0111161</td>\n",
       "      <td>The Shawshank Redemption (1994)</td>\n",
       "      <td>1994</td>\n",
       "      <td>9.2</td>\n",
       "      <td>619479</td>\n",
       "      <td>142 mins.</td>\n",
       "      <td>Crime|Drama</td>\n",
       "    </tr>\n",
       "    <tr>\n",
       "      <td>tt0110912</td>\n",
       "      <td>Pulp Fiction (1994)</td>\n",
       "      <td>1994</td>\n",
       "      <td>9.0</td>\n",
       "      <td>490065</td>\n",
       "      <td>154 mins.</td>\n",
       "      <td>Crime|Thriller</td>\n",
       "    </tr>\n",
       "    <tr>\n",
       "      <td>tt0137523</td>\n",
       "      <td>Fight Club (1999)</td>\n",
       "      <td>1999</td>\n",
       "      <td>8.8</td>\n",
       "      <td>458173</td>\n",
       "      <td>139 mins.</td>\n",
       "      <td>Drama|Mystery|Thriller</td>\n",
       "    </tr>\n",
       "    <tr>\n",
       "      <td>tt0133093</td>\n",
       "      <td>The Matrix (1999)</td>\n",
       "      <td>1999</td>\n",
       "      <td>8.7</td>\n",
       "      <td>448114</td>\n",
       "      <td>136 mins.</td>\n",
       "      <td>Action|Adventure|Sci-Fi</td>\n",
       "    </tr>\n",
       "    <tr>\n",
       "      <td>tt1375666</td>\n",
       "      <td>Inception (2010)</td>\n",
       "      <td>2010</td>\n",
       "      <td>8.9</td>\n",
       "      <td>385149</td>\n",
       "      <td>148 mins.</td>\n",
       "      <td>Action|Adventure|Sci-Fi|Thriller</td>\n",
       "    </tr>\n",
       "  </tbody>\n",
       "</table>\n",
       "</div>"
      ],
      "text/plain": [
       "                                      name  year  Rating   Votes       Time  \\\n",
       "id                                                                            \n",
       "tt0111161  The Shawshank Redemption (1994)  1994     9.2  619479  142 mins.   \n",
       "tt0110912              Pulp Fiction (1994)  1994     9.0  490065  154 mins.   \n",
       "tt0137523                Fight Club (1999)  1999     8.8  458173  139 mins.   \n",
       "tt0133093                The Matrix (1999)  1999     8.7  448114  136 mins.   \n",
       "tt1375666                 Inception (2010)  2010     8.9  385149  148 mins.   \n",
       "\n",
       "                                      Genre  \n",
       "id                                           \n",
       "tt0111161                       Crime|Drama  \n",
       "tt0110912                    Crime|Thriller  \n",
       "tt0137523            Drama|Mystery|Thriller  \n",
       "tt0133093           Action|Adventure|Sci-Fi  \n",
       "tt1375666  Action|Adventure|Sci-Fi|Thriller  "
      ]
     },
     "execution_count": 57,
     "metadata": {},
     "output_type": "execute_result"
    }
   ],
   "source": [
    "data.head()"
   ]
  },
  {
   "cell_type": "code",
   "execution_count": 58,
   "metadata": {},
   "outputs": [
    {
     "data": {
      "text/html": [
       "<div>\n",
       "<style scoped>\n",
       "    .dataframe tbody tr th:only-of-type {\n",
       "        vertical-align: middle;\n",
       "    }\n",
       "\n",
       "    .dataframe tbody tr th {\n",
       "        vertical-align: top;\n",
       "    }\n",
       "\n",
       "    .dataframe thead th {\n",
       "        text-align: right;\n",
       "    }\n",
       "</style>\n",
       "<table border=\"1\" class=\"dataframe\">\n",
       "  <thead>\n",
       "    <tr style=\"text-align: right;\">\n",
       "      <th></th>\n",
       "      <th>name</th>\n",
       "      <th>year</th>\n",
       "      <th>Rating</th>\n",
       "      <th>Votes</th>\n",
       "      <th>Time</th>\n",
       "      <th>Genre</th>\n",
       "    </tr>\n",
       "    <tr>\n",
       "      <th>id</th>\n",
       "      <th></th>\n",
       "      <th></th>\n",
       "      <th></th>\n",
       "      <th></th>\n",
       "      <th></th>\n",
       "      <th></th>\n",
       "    </tr>\n",
       "  </thead>\n",
       "  <tbody>\n",
       "    <tr>\n",
       "      <td>tt0111161</td>\n",
       "      <td>The Shawshank Redemption (1994)</td>\n",
       "      <td>1994</td>\n",
       "      <td>9.2</td>\n",
       "      <td>619479</td>\n",
       "      <td>142 mins.</td>\n",
       "      <td>Crime|Drama</td>\n",
       "    </tr>\n",
       "    <tr>\n",
       "      <td>tt0110912</td>\n",
       "      <td>Pulp Fiction (1994)</td>\n",
       "      <td>1994</td>\n",
       "      <td>9.0</td>\n",
       "      <td>490065</td>\n",
       "      <td>154 mins.</td>\n",
       "      <td>Crime|Thriller</td>\n",
       "    </tr>\n",
       "    <tr>\n",
       "      <td>tt0137523</td>\n",
       "      <td>Fight Club (1999)</td>\n",
       "      <td>1999</td>\n",
       "      <td>8.8</td>\n",
       "      <td>458173</td>\n",
       "      <td>139 mins.</td>\n",
       "      <td>Drama|Mystery|Thriller</td>\n",
       "    </tr>\n",
       "  </tbody>\n",
       "</table>\n",
       "</div>"
      ],
      "text/plain": [
       "                                      name  year  Rating   Votes       Time  \\\n",
       "id                                                                            \n",
       "tt0111161  The Shawshank Redemption (1994)  1994     9.2  619479  142 mins.   \n",
       "tt0110912              Pulp Fiction (1994)  1994     9.0  490065  154 mins.   \n",
       "tt0137523                Fight Club (1999)  1999     8.8  458173  139 mins.   \n",
       "\n",
       "                            Genre  \n",
       "id                                 \n",
       "tt0111161             Crime|Drama  \n",
       "tt0110912          Crime|Thriller  \n",
       "tt0137523  Drama|Mystery|Thriller  "
      ]
     },
     "execution_count": 58,
     "metadata": {},
     "output_type": "execute_result"
    }
   ],
   "source": [
    "data.head(3)"
   ]
  },
  {
   "cell_type": "code",
   "execution_count": 59,
   "metadata": {},
   "outputs": [
    {
     "data": {
      "text/html": [
       "<div>\n",
       "<style scoped>\n",
       "    .dataframe tbody tr th:only-of-type {\n",
       "        vertical-align: middle;\n",
       "    }\n",
       "\n",
       "    .dataframe tbody tr th {\n",
       "        vertical-align: top;\n",
       "    }\n",
       "\n",
       "    .dataframe thead th {\n",
       "        text-align: right;\n",
       "    }\n",
       "</style>\n",
       "<table border=\"1\" class=\"dataframe\">\n",
       "  <thead>\n",
       "    <tr style=\"text-align: right;\">\n",
       "      <th></th>\n",
       "      <th>name</th>\n",
       "      <th>year</th>\n",
       "      <th>Rating</th>\n",
       "      <th>Votes</th>\n",
       "      <th>Time</th>\n",
       "      <th>Genre</th>\n",
       "    </tr>\n",
       "    <tr>\n",
       "      <th>id</th>\n",
       "      <th></th>\n",
       "      <th></th>\n",
       "      <th></th>\n",
       "      <th></th>\n",
       "      <th></th>\n",
       "      <th></th>\n",
       "    </tr>\n",
       "  </thead>\n",
       "  <tbody>\n",
       "    <tr>\n",
       "      <td>tt0807721</td>\n",
       "      <td>Meduzot (2007)</td>\n",
       "      <td>2007</td>\n",
       "      <td>7.0</td>\n",
       "      <td>1357</td>\n",
       "      <td>78 mins.</td>\n",
       "      <td>Drama</td>\n",
       "    </tr>\n",
       "    <tr>\n",
       "      <td>tt0339642</td>\n",
       "      <td>Daltry Calhoun (2005)</td>\n",
       "      <td>2005</td>\n",
       "      <td>5.2</td>\n",
       "      <td>1357</td>\n",
       "      <td>100 mins.</td>\n",
       "      <td>Comedy|Drama|Music|Romance</td>\n",
       "    </tr>\n",
       "    <tr>\n",
       "      <td>tt0060880</td>\n",
       "      <td>The Quiller Memorandum (1966)</td>\n",
       "      <td>1966</td>\n",
       "      <td>6.5</td>\n",
       "      <td>1356</td>\n",
       "      <td>104 mins.</td>\n",
       "      <td>Drama|Mystery|Thriller</td>\n",
       "    </tr>\n",
       "    <tr>\n",
       "      <td>tt0152836</td>\n",
       "      <td>Taal (1999)</td>\n",
       "      <td>1999</td>\n",
       "      <td>6.5</td>\n",
       "      <td>1356</td>\n",
       "      <td>179 mins.</td>\n",
       "      <td>Musical|Romance</td>\n",
       "    </tr>\n",
       "    <tr>\n",
       "      <td>tt0279977</td>\n",
       "      <td>The Navigators (2001)</td>\n",
       "      <td>2001</td>\n",
       "      <td>6.9</td>\n",
       "      <td>1356</td>\n",
       "      <td>96 mins.</td>\n",
       "      <td>Comedy|Drama</td>\n",
       "    </tr>\n",
       "  </tbody>\n",
       "</table>\n",
       "</div>"
      ],
      "text/plain": [
       "                                    name  year  Rating  Votes       Time  \\\n",
       "id                                                                         \n",
       "tt0807721                 Meduzot (2007)  2007     7.0   1357   78 mins.   \n",
       "tt0339642          Daltry Calhoun (2005)  2005     5.2   1357  100 mins.   \n",
       "tt0060880  The Quiller Memorandum (1966)  1966     6.5   1356  104 mins.   \n",
       "tt0152836                    Taal (1999)  1999     6.5   1356  179 mins.   \n",
       "tt0279977          The Navigators (2001)  2001     6.9   1356   96 mins.   \n",
       "\n",
       "                                Genre  \n",
       "id                                     \n",
       "tt0807721                       Drama  \n",
       "tt0339642  Comedy|Drama|Music|Romance  \n",
       "tt0060880      Drama|Mystery|Thriller  \n",
       "tt0152836             Musical|Romance  \n",
       "tt0279977                Comedy|Drama  "
      ]
     },
     "execution_count": 59,
     "metadata": {},
     "output_type": "execute_result"
    }
   ],
   "source": [
    "data.tail()"
   ]
  },
  {
   "cell_type": "code",
   "execution_count": 60,
   "metadata": {},
   "outputs": [
    {
     "name": "stdout",
     "output_type": "stream",
     "text": [
      "<class 'pandas.core.frame.DataFrame'>\n",
      "Index: 10000 entries, tt0111161 to tt0279977\n",
      "Data columns (total 6 columns):\n",
      "name      10000 non-null object\n",
      "year      10000 non-null int64\n",
      "Rating    10000 non-null float64\n",
      "Votes     10000 non-null int64\n",
      "Time      10000 non-null object\n",
      "Genre     9999 non-null object\n",
      "dtypes: float64(1), int64(2), object(3)\n",
      "memory usage: 546.9+ KB\n"
     ]
    }
   ],
   "source": [
    "data.info()"
   ]
  },
  {
   "cell_type": "code",
   "execution_count": 61,
   "metadata": {},
   "outputs": [
    {
     "data": {
      "text/html": [
       "<div>\n",
       "<style scoped>\n",
       "    .dataframe tbody tr th:only-of-type {\n",
       "        vertical-align: middle;\n",
       "    }\n",
       "\n",
       "    .dataframe tbody tr th {\n",
       "        vertical-align: top;\n",
       "    }\n",
       "\n",
       "    .dataframe thead th {\n",
       "        text-align: right;\n",
       "    }\n",
       "</style>\n",
       "<table border=\"1\" class=\"dataframe\">\n",
       "  <thead>\n",
       "    <tr style=\"text-align: right;\">\n",
       "      <th></th>\n",
       "      <th>year</th>\n",
       "      <th>Rating</th>\n",
       "      <th>Votes</th>\n",
       "    </tr>\n",
       "  </thead>\n",
       "  <tbody>\n",
       "    <tr>\n",
       "      <td>count</td>\n",
       "      <td>10000.000000</td>\n",
       "      <td>10000.000000</td>\n",
       "      <td>10000.000000</td>\n",
       "    </tr>\n",
       "    <tr>\n",
       "      <td>mean</td>\n",
       "      <td>1993.472800</td>\n",
       "      <td>6.386070</td>\n",
       "      <td>16604.012800</td>\n",
       "    </tr>\n",
       "    <tr>\n",
       "      <td>std</td>\n",
       "      <td>14.829924</td>\n",
       "      <td>1.189933</td>\n",
       "      <td>34563.459698</td>\n",
       "    </tr>\n",
       "    <tr>\n",
       "      <td>min</td>\n",
       "      <td>1950.000000</td>\n",
       "      <td>1.500000</td>\n",
       "      <td>1356.000000</td>\n",
       "    </tr>\n",
       "    <tr>\n",
       "      <td>25%</td>\n",
       "      <td>1986.000000</td>\n",
       "      <td>5.700000</td>\n",
       "      <td>2333.750000</td>\n",
       "    </tr>\n",
       "    <tr>\n",
       "      <td>50%</td>\n",
       "      <td>1998.000000</td>\n",
       "      <td>6.600000</td>\n",
       "      <td>4980.500000</td>\n",
       "    </tr>\n",
       "    <tr>\n",
       "      <td>75%</td>\n",
       "      <td>2005.000000</td>\n",
       "      <td>7.200000</td>\n",
       "      <td>15277.750000</td>\n",
       "    </tr>\n",
       "    <tr>\n",
       "      <td>max</td>\n",
       "      <td>2011.000000</td>\n",
       "      <td>9.200000</td>\n",
       "      <td>619479.000000</td>\n",
       "    </tr>\n",
       "  </tbody>\n",
       "</table>\n",
       "</div>"
      ],
      "text/plain": [
       "               year        Rating          Votes\n",
       "count  10000.000000  10000.000000   10000.000000\n",
       "mean    1993.472800      6.386070   16604.012800\n",
       "std       14.829924      1.189933   34563.459698\n",
       "min     1950.000000      1.500000    1356.000000\n",
       "25%     1986.000000      5.700000    2333.750000\n",
       "50%     1998.000000      6.600000    4980.500000\n",
       "75%     2005.000000      7.200000   15277.750000\n",
       "max     2011.000000      9.200000  619479.000000"
      ]
     },
     "execution_count": 61,
     "metadata": {},
     "output_type": "execute_result"
    }
   ],
   "source": [
    "data.describe()"
   ]
  },
  {
   "cell_type": "markdown",
   "metadata": {},
   "source": [
    "# Exporting Data"
   ]
  },
  {
   "cell_type": "code",
   "execution_count": 62,
   "metadata": {},
   "outputs": [],
   "source": [
    "# test.csv in the Directory :)\n",
    "data.to_csv('test.csv', header=True, index=True, sep=',')"
   ]
  },
  {
   "cell_type": "markdown",
   "metadata": {},
   "source": [
    "# Sorting Data"
   ]
  },
  {
   "cell_type": "code",
   "execution_count": 63,
   "metadata": {},
   "outputs": [
    {
     "data": {
      "text/html": [
       "<div>\n",
       "<style scoped>\n",
       "    .dataframe tbody tr th:only-of-type {\n",
       "        vertical-align: middle;\n",
       "    }\n",
       "\n",
       "    .dataframe tbody tr th {\n",
       "        vertical-align: top;\n",
       "    }\n",
       "\n",
       "    .dataframe thead th {\n",
       "        text-align: right;\n",
       "    }\n",
       "</style>\n",
       "<table border=\"1\" class=\"dataframe\">\n",
       "  <thead>\n",
       "    <tr style=\"text-align: right;\">\n",
       "      <th></th>\n",
       "      <th>name</th>\n",
       "      <th>year</th>\n",
       "      <th>Rating</th>\n",
       "      <th>Votes</th>\n",
       "      <th>Time</th>\n",
       "      <th>Genre</th>\n",
       "    </tr>\n",
       "    <tr>\n",
       "      <th>id</th>\n",
       "      <th></th>\n",
       "      <th></th>\n",
       "      <th></th>\n",
       "      <th></th>\n",
       "      <th></th>\n",
       "      <th></th>\n",
       "    </tr>\n",
       "  </thead>\n",
       "  <tbody>\n",
       "    <tr>\n",
       "      <td>tt0270846</td>\n",
       "      <td>Superbabies: Baby Geniuses 2 (2004)</td>\n",
       "      <td>2004</td>\n",
       "      <td>1.5</td>\n",
       "      <td>13196</td>\n",
       "      <td>88 mins.</td>\n",
       "      <td>Comedy|Family</td>\n",
       "    </tr>\n",
       "    <tr>\n",
       "      <td>tt0059464</td>\n",
       "      <td>Monster a-Go Go (1965)</td>\n",
       "      <td>1965</td>\n",
       "      <td>1.5</td>\n",
       "      <td>3255</td>\n",
       "      <td>70 mins.</td>\n",
       "      <td>Sci-Fi|Horror</td>\n",
       "    </tr>\n",
       "    <tr>\n",
       "      <td>tt0364986</td>\n",
       "      <td>Ben &amp; Arthur (2002)</td>\n",
       "      <td>2002</td>\n",
       "      <td>1.5</td>\n",
       "      <td>4675</td>\n",
       "      <td>85 mins.</td>\n",
       "      <td>Drama|Romance</td>\n",
       "    </tr>\n",
       "    <tr>\n",
       "      <td>tt0421051</td>\n",
       "      <td>Daniel the Wizard (2004)</td>\n",
       "      <td>2004</td>\n",
       "      <td>1.5</td>\n",
       "      <td>8271</td>\n",
       "      <td>81 mins.</td>\n",
       "      <td>Comedy|Crime|Family|Fantasy|Horror</td>\n",
       "    </tr>\n",
       "    <tr>\n",
       "      <td>tt1309000</td>\n",
       "      <td>Dream Well (2009)</td>\n",
       "      <td>2009</td>\n",
       "      <td>1.5</td>\n",
       "      <td>2848</td>\n",
       "      <td>00 mins.</td>\n",
       "      <td>Comedy|Romance|Sport</td>\n",
       "    </tr>\n",
       "    <tr>\n",
       "      <td>...</td>\n",
       "      <td>...</td>\n",
       "      <td>...</td>\n",
       "      <td>...</td>\n",
       "      <td>...</td>\n",
       "      <td>...</td>\n",
       "      <td>...</td>\n",
       "    </tr>\n",
       "    <tr>\n",
       "      <td>tt0071562</td>\n",
       "      <td>The Godfather: Part II (1974)</td>\n",
       "      <td>1974</td>\n",
       "      <td>9.0</td>\n",
       "      <td>291169</td>\n",
       "      <td>200 mins.</td>\n",
       "      <td>Crime|Drama</td>\n",
       "    </tr>\n",
       "    <tr>\n",
       "      <td>tt0060196</td>\n",
       "      <td>The Good, the Bad and the Ugly (1966)</td>\n",
       "      <td>1966</td>\n",
       "      <td>9.0</td>\n",
       "      <td>195238</td>\n",
       "      <td>161 mins.</td>\n",
       "      <td>Western</td>\n",
       "    </tr>\n",
       "    <tr>\n",
       "      <td>tt0110912</td>\n",
       "      <td>Pulp Fiction (1994)</td>\n",
       "      <td>1994</td>\n",
       "      <td>9.0</td>\n",
       "      <td>490065</td>\n",
       "      <td>154 mins.</td>\n",
       "      <td>Crime|Thriller</td>\n",
       "    </tr>\n",
       "    <tr>\n",
       "      <td>tt0068646</td>\n",
       "      <td>The Godfather (1972)</td>\n",
       "      <td>1972</td>\n",
       "      <td>9.2</td>\n",
       "      <td>474189</td>\n",
       "      <td>175 mins.</td>\n",
       "      <td>Crime|Drama</td>\n",
       "    </tr>\n",
       "    <tr>\n",
       "      <td>tt0111161</td>\n",
       "      <td>The Shawshank Redemption (1994)</td>\n",
       "      <td>1994</td>\n",
       "      <td>9.2</td>\n",
       "      <td>619479</td>\n",
       "      <td>142 mins.</td>\n",
       "      <td>Crime|Drama</td>\n",
       "    </tr>\n",
       "  </tbody>\n",
       "</table>\n",
       "<p>10000 rows × 6 columns</p>\n",
       "</div>"
      ],
      "text/plain": [
       "                                            name  year  Rating   Votes  \\\n",
       "id                                                                       \n",
       "tt0270846    Superbabies: Baby Geniuses 2 (2004)  2004     1.5   13196   \n",
       "tt0059464                 Monster a-Go Go (1965)  1965     1.5    3255   \n",
       "tt0364986                    Ben & Arthur (2002)  2002     1.5    4675   \n",
       "tt0421051               Daniel the Wizard (2004)  2004     1.5    8271   \n",
       "tt1309000                      Dream Well (2009)  2009     1.5    2848   \n",
       "...                                          ...   ...     ...     ...   \n",
       "tt0071562          The Godfather: Part II (1974)  1974     9.0  291169   \n",
       "tt0060196  The Good, the Bad and the Ugly (1966)  1966     9.0  195238   \n",
       "tt0110912                    Pulp Fiction (1994)  1994     9.0  490065   \n",
       "tt0068646                   The Godfather (1972)  1972     9.2  474189   \n",
       "tt0111161        The Shawshank Redemption (1994)  1994     9.2  619479   \n",
       "\n",
       "                Time                               Genre  \n",
       "id                                                        \n",
       "tt0270846   88 mins.                       Comedy|Family  \n",
       "tt0059464   70 mins.                       Sci-Fi|Horror  \n",
       "tt0364986   85 mins.                       Drama|Romance  \n",
       "tt0421051   81 mins.  Comedy|Crime|Family|Fantasy|Horror  \n",
       "tt1309000   00 mins.                Comedy|Romance|Sport  \n",
       "...              ...                                 ...  \n",
       "tt0071562  200 mins.                         Crime|Drama  \n",
       "tt0060196  161 mins.                             Western  \n",
       "tt0110912  154 mins.                      Crime|Thriller  \n",
       "tt0068646  175 mins.                         Crime|Drama  \n",
       "tt0111161  142 mins.                         Crime|Drama  \n",
       "\n",
       "[10000 rows x 6 columns]"
      ]
     },
     "execution_count": 63,
     "metadata": {},
     "output_type": "execute_result"
    }
   ],
   "source": [
    "data.sort_values(by='Rating')"
   ]
  },
  {
   "cell_type": "code",
   "execution_count": 64,
   "metadata": {},
   "outputs": [
    {
     "data": {
      "text/html": [
       "<div>\n",
       "<style scoped>\n",
       "    .dataframe tbody tr th:only-of-type {\n",
       "        vertical-align: middle;\n",
       "    }\n",
       "\n",
       "    .dataframe tbody tr th {\n",
       "        vertical-align: top;\n",
       "    }\n",
       "\n",
       "    .dataframe thead th {\n",
       "        text-align: right;\n",
       "    }\n",
       "</style>\n",
       "<table border=\"1\" class=\"dataframe\">\n",
       "  <thead>\n",
       "    <tr style=\"text-align: right;\">\n",
       "      <th></th>\n",
       "      <th>name</th>\n",
       "      <th>year</th>\n",
       "      <th>Rating</th>\n",
       "      <th>Votes</th>\n",
       "      <th>Time</th>\n",
       "      <th>Genre</th>\n",
       "    </tr>\n",
       "    <tr>\n",
       "      <th>id</th>\n",
       "      <th></th>\n",
       "      <th></th>\n",
       "      <th></th>\n",
       "      <th></th>\n",
       "      <th></th>\n",
       "      <th></th>\n",
       "    </tr>\n",
       "  </thead>\n",
       "  <tbody>\n",
       "    <tr>\n",
       "      <td>tt0111161</td>\n",
       "      <td>The Shawshank Redemption (1994)</td>\n",
       "      <td>1994</td>\n",
       "      <td>9.2</td>\n",
       "      <td>619479</td>\n",
       "      <td>142 mins.</td>\n",
       "      <td>Crime|Drama</td>\n",
       "    </tr>\n",
       "    <tr>\n",
       "      <td>tt0068646</td>\n",
       "      <td>The Godfather (1972)</td>\n",
       "      <td>1972</td>\n",
       "      <td>9.2</td>\n",
       "      <td>474189</td>\n",
       "      <td>175 mins.</td>\n",
       "      <td>Crime|Drama</td>\n",
       "    </tr>\n",
       "    <tr>\n",
       "      <td>tt0060196</td>\n",
       "      <td>The Good, the Bad and the Ugly (1966)</td>\n",
       "      <td>1966</td>\n",
       "      <td>9.0</td>\n",
       "      <td>195238</td>\n",
       "      <td>161 mins.</td>\n",
       "      <td>Western</td>\n",
       "    </tr>\n",
       "    <tr>\n",
       "      <td>tt0110912</td>\n",
       "      <td>Pulp Fiction (1994)</td>\n",
       "      <td>1994</td>\n",
       "      <td>9.0</td>\n",
       "      <td>490065</td>\n",
       "      <td>154 mins.</td>\n",
       "      <td>Crime|Thriller</td>\n",
       "    </tr>\n",
       "    <tr>\n",
       "      <td>tt0252487</td>\n",
       "      <td>Outrageous Class (1975)</td>\n",
       "      <td>1975</td>\n",
       "      <td>9.0</td>\n",
       "      <td>9823</td>\n",
       "      <td>87 mins.</td>\n",
       "      <td>Comedy|Drama</td>\n",
       "    </tr>\n",
       "    <tr>\n",
       "      <td>...</td>\n",
       "      <td>...</td>\n",
       "      <td>...</td>\n",
       "      <td>...</td>\n",
       "      <td>...</td>\n",
       "      <td>...</td>\n",
       "      <td>...</td>\n",
       "    </tr>\n",
       "    <tr>\n",
       "      <td>tt0364986</td>\n",
       "      <td>Ben &amp; Arthur (2002)</td>\n",
       "      <td>2002</td>\n",
       "      <td>1.5</td>\n",
       "      <td>4675</td>\n",
       "      <td>85 mins.</td>\n",
       "      <td>Drama|Romance</td>\n",
       "    </tr>\n",
       "    <tr>\n",
       "      <td>tt0060753</td>\n",
       "      <td>Night Train to Mundo Fine (1966)</td>\n",
       "      <td>1966</td>\n",
       "      <td>1.5</td>\n",
       "      <td>3542</td>\n",
       "      <td>89 mins.</td>\n",
       "      <td>Action|Adventure|Crime|War</td>\n",
       "    </tr>\n",
       "    <tr>\n",
       "      <td>tt0421051</td>\n",
       "      <td>Daniel the Wizard (2004)</td>\n",
       "      <td>2004</td>\n",
       "      <td>1.5</td>\n",
       "      <td>8271</td>\n",
       "      <td>81 mins.</td>\n",
       "      <td>Comedy|Crime|Family|Fantasy|Horror</td>\n",
       "    </tr>\n",
       "    <tr>\n",
       "      <td>tt0059464</td>\n",
       "      <td>Monster a-Go Go (1965)</td>\n",
       "      <td>1965</td>\n",
       "      <td>1.5</td>\n",
       "      <td>3255</td>\n",
       "      <td>70 mins.</td>\n",
       "      <td>Sci-Fi|Horror</td>\n",
       "    </tr>\n",
       "    <tr>\n",
       "      <td>tt0060666</td>\n",
       "      <td>Manos: The Hands of Fate (1966)</td>\n",
       "      <td>1966</td>\n",
       "      <td>1.5</td>\n",
       "      <td>20927</td>\n",
       "      <td>74 mins.</td>\n",
       "      <td>Horror</td>\n",
       "    </tr>\n",
       "  </tbody>\n",
       "</table>\n",
       "<p>10000 rows × 6 columns</p>\n",
       "</div>"
      ],
      "text/plain": [
       "                                            name  year  Rating   Votes  \\\n",
       "id                                                                       \n",
       "tt0111161        The Shawshank Redemption (1994)  1994     9.2  619479   \n",
       "tt0068646                   The Godfather (1972)  1972     9.2  474189   \n",
       "tt0060196  The Good, the Bad and the Ugly (1966)  1966     9.0  195238   \n",
       "tt0110912                    Pulp Fiction (1994)  1994     9.0  490065   \n",
       "tt0252487                Outrageous Class (1975)  1975     9.0    9823   \n",
       "...                                          ...   ...     ...     ...   \n",
       "tt0364986                    Ben & Arthur (2002)  2002     1.5    4675   \n",
       "tt0060753       Night Train to Mundo Fine (1966)  1966     1.5    3542   \n",
       "tt0421051               Daniel the Wizard (2004)  2004     1.5    8271   \n",
       "tt0059464                 Monster a-Go Go (1965)  1965     1.5    3255   \n",
       "tt0060666        Manos: The Hands of Fate (1966)  1966     1.5   20927   \n",
       "\n",
       "                Time                               Genre  \n",
       "id                                                        \n",
       "tt0111161  142 mins.                         Crime|Drama  \n",
       "tt0068646  175 mins.                         Crime|Drama  \n",
       "tt0060196  161 mins.                             Western  \n",
       "tt0110912  154 mins.                      Crime|Thriller  \n",
       "tt0252487   87 mins.                        Comedy|Drama  \n",
       "...              ...                                 ...  \n",
       "tt0364986   85 mins.                       Drama|Romance  \n",
       "tt0060753   89 mins.          Action|Adventure|Crime|War  \n",
       "tt0421051   81 mins.  Comedy|Crime|Family|Fantasy|Horror  \n",
       "tt0059464   70 mins.                       Sci-Fi|Horror  \n",
       "tt0060666   74 mins.                              Horror  \n",
       "\n",
       "[10000 rows x 6 columns]"
      ]
     },
     "execution_count": 64,
     "metadata": {},
     "output_type": "execute_result"
    }
   ],
   "source": [
    "# Sorting Data Reverse\n",
    "data.sort_values(by='Rating', ascending=False)"
   ]
  },
  {
   "cell_type": "markdown",
   "metadata": {},
   "source": [
    "# Creating Data Frame from Scratch"
   ]
  },
  {
   "cell_type": "code",
   "execution_count": 65,
   "metadata": {},
   "outputs": [],
   "source": [
    "sample_data = {\n",
    "    'tv' : [200,230,234],\n",
    "    'radio': [32,34,5],\n",
    "    'news': [69,23,42],\n",
    "    'sales': [53,453,55]\n",
    "}"
   ]
  },
  {
   "cell_type": "code",
   "execution_count": 66,
   "metadata": {},
   "outputs": [],
   "source": [
    "data2 = pd.DataFrame(sample_data)"
   ]
  },
  {
   "cell_type": "code",
   "execution_count": 67,
   "metadata": {},
   "outputs": [
    {
     "data": {
      "text/html": [
       "<div>\n",
       "<style scoped>\n",
       "    .dataframe tbody tr th:only-of-type {\n",
       "        vertical-align: middle;\n",
       "    }\n",
       "\n",
       "    .dataframe tbody tr th {\n",
       "        vertical-align: top;\n",
       "    }\n",
       "\n",
       "    .dataframe thead th {\n",
       "        text-align: right;\n",
       "    }\n",
       "</style>\n",
       "<table border=\"1\" class=\"dataframe\">\n",
       "  <thead>\n",
       "    <tr style=\"text-align: right;\">\n",
       "      <th></th>\n",
       "      <th>tv</th>\n",
       "      <th>radio</th>\n",
       "      <th>news</th>\n",
       "      <th>sales</th>\n",
       "    </tr>\n",
       "  </thead>\n",
       "  <tbody>\n",
       "    <tr>\n",
       "      <td>0</td>\n",
       "      <td>200</td>\n",
       "      <td>32</td>\n",
       "      <td>69</td>\n",
       "      <td>53</td>\n",
       "    </tr>\n",
       "    <tr>\n",
       "      <td>1</td>\n",
       "      <td>230</td>\n",
       "      <td>34</td>\n",
       "      <td>23</td>\n",
       "      <td>453</td>\n",
       "    </tr>\n",
       "    <tr>\n",
       "      <td>2</td>\n",
       "      <td>234</td>\n",
       "      <td>5</td>\n",
       "      <td>42</td>\n",
       "      <td>55</td>\n",
       "    </tr>\n",
       "  </tbody>\n",
       "</table>\n",
       "</div>"
      ],
      "text/plain": [
       "    tv  radio  news  sales\n",
       "0  200     32    69     53\n",
       "1  230     34    23    453\n",
       "2  234      5    42     55"
      ]
     },
     "execution_count": 67,
     "metadata": {},
     "output_type": "execute_result"
    }
   ],
   "source": [
    "data2"
   ]
  },
  {
   "cell_type": "markdown",
   "metadata": {},
   "source": [
    "# Selecting Data"
   ]
  },
  {
   "cell_type": "code",
   "execution_count": 68,
   "metadata": {},
   "outputs": [
    {
     "data": {
      "text/plain": [
       "id\n",
       "tt0111161    The Shawshank Redemption (1994)\n",
       "tt0110912                Pulp Fiction (1994)\n",
       "tt0137523                  Fight Club (1999)\n",
       "tt0133093                  The Matrix (1999)\n",
       "tt1375666                   Inception (2010)\n",
       "                          ...               \n",
       "tt0807721                     Meduzot (2007)\n",
       "tt0339642              Daltry Calhoun (2005)\n",
       "tt0060880      The Quiller Memorandum (1966)\n",
       "tt0152836                        Taal (1999)\n",
       "tt0279977              The Navigators (2001)\n",
       "Name: name, Length: 10000, dtype: object"
      ]
     },
     "execution_count": 68,
     "metadata": {},
     "output_type": "execute_result"
    }
   ],
   "source": [
    "data['name']"
   ]
  },
  {
   "cell_type": "code",
   "execution_count": 69,
   "metadata": {},
   "outputs": [
    {
     "data": {
      "text/html": [
       "<div>\n",
       "<style scoped>\n",
       "    .dataframe tbody tr th:only-of-type {\n",
       "        vertical-align: middle;\n",
       "    }\n",
       "\n",
       "    .dataframe tbody tr th {\n",
       "        vertical-align: top;\n",
       "    }\n",
       "\n",
       "    .dataframe thead th {\n",
       "        text-align: right;\n",
       "    }\n",
       "</style>\n",
       "<table border=\"1\" class=\"dataframe\">\n",
       "  <thead>\n",
       "    <tr style=\"text-align: right;\">\n",
       "      <th></th>\n",
       "      <th>name</th>\n",
       "      <th>year</th>\n",
       "    </tr>\n",
       "    <tr>\n",
       "      <th>id</th>\n",
       "      <th></th>\n",
       "      <th></th>\n",
       "    </tr>\n",
       "  </thead>\n",
       "  <tbody>\n",
       "    <tr>\n",
       "      <td>tt0111161</td>\n",
       "      <td>The Shawshank Redemption (1994)</td>\n",
       "      <td>1994</td>\n",
       "    </tr>\n",
       "    <tr>\n",
       "      <td>tt0110912</td>\n",
       "      <td>Pulp Fiction (1994)</td>\n",
       "      <td>1994</td>\n",
       "    </tr>\n",
       "    <tr>\n",
       "      <td>tt0137523</td>\n",
       "      <td>Fight Club (1999)</td>\n",
       "      <td>1999</td>\n",
       "    </tr>\n",
       "    <tr>\n",
       "      <td>tt0133093</td>\n",
       "      <td>The Matrix (1999)</td>\n",
       "      <td>1999</td>\n",
       "    </tr>\n",
       "    <tr>\n",
       "      <td>tt1375666</td>\n",
       "      <td>Inception (2010)</td>\n",
       "      <td>2010</td>\n",
       "    </tr>\n",
       "    <tr>\n",
       "      <td>...</td>\n",
       "      <td>...</td>\n",
       "      <td>...</td>\n",
       "    </tr>\n",
       "    <tr>\n",
       "      <td>tt0807721</td>\n",
       "      <td>Meduzot (2007)</td>\n",
       "      <td>2007</td>\n",
       "    </tr>\n",
       "    <tr>\n",
       "      <td>tt0339642</td>\n",
       "      <td>Daltry Calhoun (2005)</td>\n",
       "      <td>2005</td>\n",
       "    </tr>\n",
       "    <tr>\n",
       "      <td>tt0060880</td>\n",
       "      <td>The Quiller Memorandum (1966)</td>\n",
       "      <td>1966</td>\n",
       "    </tr>\n",
       "    <tr>\n",
       "      <td>tt0152836</td>\n",
       "      <td>Taal (1999)</td>\n",
       "      <td>1999</td>\n",
       "    </tr>\n",
       "    <tr>\n",
       "      <td>tt0279977</td>\n",
       "      <td>The Navigators (2001)</td>\n",
       "      <td>2001</td>\n",
       "    </tr>\n",
       "  </tbody>\n",
       "</table>\n",
       "<p>10000 rows × 2 columns</p>\n",
       "</div>"
      ],
      "text/plain": [
       "                                      name  year\n",
       "id                                              \n",
       "tt0111161  The Shawshank Redemption (1994)  1994\n",
       "tt0110912              Pulp Fiction (1994)  1994\n",
       "tt0137523                Fight Club (1999)  1999\n",
       "tt0133093                The Matrix (1999)  1999\n",
       "tt1375666                 Inception (2010)  2010\n",
       "...                                    ...   ...\n",
       "tt0807721                   Meduzot (2007)  2007\n",
       "tt0339642            Daltry Calhoun (2005)  2005\n",
       "tt0060880    The Quiller Memorandum (1966)  1966\n",
       "tt0152836                      Taal (1999)  1999\n",
       "tt0279977            The Navigators (2001)  2001\n",
       "\n",
       "[10000 rows x 2 columns]"
      ]
     },
     "execution_count": 69,
     "metadata": {},
     "output_type": "execute_result"
    }
   ],
   "source": [
    "data[['name','year']]"
   ]
  },
  {
   "cell_type": "code",
   "execution_count": 70,
   "metadata": {},
   "outputs": [
    {
     "data": {
      "text/plain": [
       "6.386069999999981"
      ]
     },
     "execution_count": 70,
     "metadata": {},
     "output_type": "execute_result"
    }
   ],
   "source": [
    "data['Rating'].mean()"
   ]
  },
  {
   "cell_type": "code",
   "execution_count": 71,
   "metadata": {},
   "outputs": [
    {
     "data": {
      "text/plain": [
       "9.2"
      ]
     },
     "execution_count": 71,
     "metadata": {},
     "output_type": "execute_result"
    }
   ],
   "source": [
    "data['Rating'].max()"
   ]
  },
  {
   "cell_type": "code",
   "execution_count": 72,
   "metadata": {},
   "outputs": [
    {
     "data": {
      "text/plain": [
       "1.5"
      ]
     },
     "execution_count": 72,
     "metadata": {},
     "output_type": "execute_result"
    }
   ],
   "source": [
    "data['Rating'].min()"
   ]
  },
  {
   "cell_type": "code",
   "execution_count": 73,
   "metadata": {},
   "outputs": [
    {
     "data": {
      "text/plain": [
       "array(['Crime|Drama', 'Crime|Thriller', 'Drama|Mystery|Thriller', ...,\n",
       "       'Drama|War|Adventure|Romance', 'Western|Sci-Fi|Thriller',\n",
       "       'Adventure|Comedy|Drama|War'], dtype=object)"
      ]
     },
     "execution_count": 73,
     "metadata": {},
     "output_type": "execute_result"
    }
   ],
   "source": [
    "data['Genre'].unique()"
   ]
  },
  {
   "cell_type": "code",
   "execution_count": 74,
   "metadata": {},
   "outputs": [
    {
     "data": {
      "text/plain": [
       "6.8    401\n",
       "7.1    401\n",
       "7.2    386\n",
       "6.7    384\n",
       "7.0    382\n",
       "      ... \n",
       "1.5      7\n",
       "1.6      6\n",
       "8.9      5\n",
       "9.0      4\n",
       "9.2      2\n",
       "Name: Rating, Length: 77, dtype: int64"
      ]
     },
     "execution_count": 74,
     "metadata": {},
     "output_type": "execute_result"
    }
   ],
   "source": [
    "data['Rating'].value_counts()"
   ]
  },
  {
   "cell_type": "code",
   "execution_count": 75,
   "metadata": {},
   "outputs": [
    {
     "data": {
      "text/plain": [
       "1.5     7\n",
       "1.6     6\n",
       "1.7    12\n",
       "1.8    12\n",
       "1.9     9\n",
       "       ..\n",
       "8.7    13\n",
       "8.8     9\n",
       "8.9     5\n",
       "9.0     4\n",
       "9.2     2\n",
       "Name: Rating, Length: 77, dtype: int64"
      ]
     },
     "execution_count": 75,
     "metadata": {},
     "output_type": "execute_result"
    }
   ],
   "source": [
    "data['Rating'].value_counts().sort_index()"
   ]
  },
  {
   "cell_type": "code",
   "execution_count": 76,
   "metadata": {},
   "outputs": [
    {
     "data": {
      "text/plain": [
       "9.2     2\n",
       "9.0     4\n",
       "8.9     5\n",
       "8.8     9\n",
       "8.7    13\n",
       "       ..\n",
       "1.9     9\n",
       "1.8    12\n",
       "1.7    12\n",
       "1.6     6\n",
       "1.5     7\n",
       "Name: Rating, Length: 77, dtype: int64"
      ]
     },
     "execution_count": 76,
     "metadata": {},
     "output_type": "execute_result"
    }
   ],
   "source": [
    "data['Rating'].value_counts().sort_index(ascending=False)"
   ]
  },
  {
   "cell_type": "markdown",
   "metadata": {},
   "source": [
    "# Plotting\n",
    "__matplotlib__\n"
   ]
  },
  {
   "cell_type": "code",
   "execution_count": 77,
   "metadata": {},
   "outputs": [],
   "source": [
    "%matplotlib inline"
   ]
  },
  {
   "cell_type": "code",
   "execution_count": 78,
   "metadata": {},
   "outputs": [
    {
     "data": {
      "text/plain": [
       "<matplotlib.axes._subplots.AxesSubplot at 0x7f40186ebc10>"
      ]
     },
     "execution_count": 78,
     "metadata": {},
     "output_type": "execute_result"
    },
    {
     "data": {
      "image/png": "[encoded data removed]",
      "text/plain": [
       "<Figure size 432x288 with 1 Axes>"
      ]
     },
     "metadata": {
      "needs_background": "light"
     },
     "output_type": "display_data"
    }
   ],
   "source": [
    "data.plot()"
   ]
  },
  {
   "cell_type": "code",
   "execution_count": 79,
   "metadata": {},
   "outputs": [
    {
     "data": {
      "text/plain": [
       "<matplotlib.axes._subplots.AxesSubplot at 0x7f40185f2a10>"
      ]
     },
     "execution_count": 79,
     "metadata": {},
     "output_type": "execute_result"
    },
    {
     "data": {
      "image/png": "[encoded data removed]",
      "text/plain": [
       "<Figure size 432x288 with 1 Axes>"
      ]
     },
     "metadata": {
      "needs_background": "light"
     },
     "output_type": "display_data"
    }
   ],
   "source": [
    "data.plot(kind='scatter', x='Rating', y='Votes')"
   ]
  },
  {
   "cell_type": "code",
   "execution_count": 80,
   "metadata": {},
   "outputs": [
    {
     "data": {
      "text/plain": [
       "<matplotlib.axes._subplots.AxesSubplot at 0x7f40185dded0>"
      ]
     },
     "execution_count": 80,
     "metadata": {},
     "output_type": "execute_result"
    },
    {
     "data": {
      "image/png": "[encoded data removed]",
      "text/plain": [
       "<Figure size 432x288 with 1 Axes>"
      ]
     },
     "metadata": {
      "needs_background": "light"
     },
     "output_type": "display_data"
    }
   ],
   "source": [
    "data.plot(kind='scatter', x='Rating', y='Votes',alpha=0.3)"
   ]
  },
  {
   "cell_type": "code",
   "execution_count": 81,
   "metadata": {},
   "outputs": [
    {
     "data": {
      "text/plain": [
       "<matplotlib.axes._subplots.AxesSubplot at 0x7f40185058d0>"
      ]
     },
     "execution_count": 81,
     "metadata": {},
     "output_type": "execute_result"
    },
    {
     "data": {
      "image/png": "[encoded data removed]",
      "text/plain": [
       "<Figure size 432x288 with 1 Axes>"
      ]
     },
     "metadata": {
      "needs_background": "light"
     },
     "output_type": "display_data"
    }
   ],
   "source": [
    "data['Rating'].plot(kind='hist')"
   ]
  },
  {
   "cell_type": "markdown",
   "metadata": {},
   "source": [
    "# Seaborn an Alternative to Matplotilb"
   ]
  },
  {
   "cell_type": "code",
   "execution_count": 82,
   "metadata": {},
   "outputs": [],
   "source": [
    "import seaborn as sns"
   ]
  },
  {
   "cell_type": "code",
   "execution_count": 83,
   "metadata": {},
   "outputs": [
    {
     "data": {
      "text/plain": [
       "<seaborn.axisgrid.FacetGrid at 0x7f40184a3d90>"
      ]
     },
     "execution_count": 83,
     "metadata": {},
     "output_type": "execute_result"
    },
    {
     "data": {
      "image/png": "[encoded data removed]",
      "text/plain": [
       "<Figure size 360x360 with 1 Axes>"
      ]
     },
     "metadata": {
      "needs_background": "light"
     },
     "output_type": "display_data"
    }
   ],
   "source": [
    "sns.lmplot(x='Rating',y='Votes',data=data)"
   ]
  },
  {
   "cell_type": "code",
   "execution_count": 84,
   "metadata": {},
   "outputs": [
    {
     "data": {
      "text/plain": [
       "<seaborn.axisgrid.PairGrid at 0x7f4018475e90>"
      ]
     },
     "execution_count": 84,
     "metadata": {},
     "output_type": "execute_result"
    },
    {
     "data": {
      "image/png": "[encoded data removed]",
      "text/plain": [
       "<Figure size 540x540 with 12 Axes>"
      ]
     },
     "metadata": {
      "needs_background": "light"
     },
     "output_type": "display_data"
    }
   ],
   "source": [
    "sns.pairplot(data)"
   ]
  },
  {
   "cell_type": "markdown",
   "metadata": {},
   "source": [
    "# Ordinary Least Squares (OLS) Regression"
   ]
  },
  {
   "cell_type": "code",
   "execution_count": 85,
   "metadata": {},
   "outputs": [],
   "source": [
    "import statsmodels.api as sm"
   ]
  },
  {
   "cell_type": "code",
   "execution_count": 86,
   "metadata": {},
   "outputs": [],
   "source": [
    "results = sm.OLS(data['Votes'], data['Rating']).fit()"
   ]
  },
  {
   "cell_type": "code",
   "execution_count": 87,
   "metadata": {},
   "outputs": [
    {
     "data": {
      "text/html": [
       "<table class=\"simpletable\">\n",
       "<caption>OLS Regression Results</caption>\n",
       "<tr>\n",
       "  <th>Dep. Variable:</th>          <td>Votes</td>      <th>  R-squared (uncentered):</th>       <td>   0.221</td>  \n",
       "</tr>\n",
       "<tr>\n",
       "  <th>Model:</th>                   <td>OLS</td>       <th>  Adj. R-squared (uncentered):</th>  <td>   0.220</td>  \n",
       "</tr>\n",
       "<tr>\n",
       "  <th>Method:</th>             <td>Least Squares</td>  <th>  F-statistic:       </th>           <td>   2829.</td>  \n",
       "</tr>\n",
       "<tr>\n",
       "  <th>Date:</th>             <td>Wed, 25 Dec 2019</td> <th>  Prob (F-statistic):</th>            <td>  0.00</td>   \n",
       "</tr>\n",
       "<tr>\n",
       "  <th>Time:</th>                 <td>18:32:18</td>     <th>  Log-Likelihood:    </th>          <td>-1.1849e+05</td>\n",
       "</tr>\n",
       "<tr>\n",
       "  <th>No. Observations:</th>      <td> 10000</td>      <th>  AIC:               </th>           <td>2.370e+05</td> \n",
       "</tr>\n",
       "<tr>\n",
       "  <th>Df Residuals:</th>          <td>  9999</td>      <th>  BIC:               </th>           <td>2.370e+05</td> \n",
       "</tr>\n",
       "<tr>\n",
       "  <th>Df Model:</th>              <td>     1</td>      <th>                     </th>               <td> </td>     \n",
       "</tr>\n",
       "<tr>\n",
       "  <th>Covariance Type:</th>      <td>nonrobust</td>    <th>                     </th>               <td> </td>     \n",
       "</tr>\n",
       "</table>\n",
       "<table class=\"simpletable\">\n",
       "<tr>\n",
       "     <td></td>       <th>coef</th>     <th>std err</th>      <th>t</th>      <th>P>|t|</th>  <th>[0.025</th>    <th>0.975]</th>  \n",
       "</tr>\n",
       "<tr>\n",
       "  <th>Rating</th> <td> 2771.9868</td> <td>   52.115</td> <td>   53.190</td> <td> 0.000</td> <td> 2669.831</td> <td> 2874.143</td>\n",
       "</tr>\n",
       "</table>\n",
       "<table class=\"simpletable\">\n",
       "<tr>\n",
       "  <th>Omnibus:</th>       <td>11448.927</td> <th>  Durbin-Watson:     </th>  <td>   0.030</td>  \n",
       "</tr>\n",
       "<tr>\n",
       "  <th>Prob(Omnibus):</th>  <td> 0.000</td>   <th>  Jarque-Bera (JB):  </th> <td>1297144.076</td>\n",
       "</tr>\n",
       "<tr>\n",
       "  <th>Skew:</th>           <td> 5.966</td>   <th>  Prob(JB):          </th>  <td>    0.00</td>  \n",
       "</tr>\n",
       "<tr>\n",
       "  <th>Kurtosis:</th>       <td>57.505</td>   <th>  Cond. No.          </th>  <td>    1.00</td>  \n",
       "</tr>\n",
       "</table><br/><br/>Warnings:<br/>[1] Standard Errors assume that the covariance matrix of the errors is correctly specified."
      ],
      "text/plain": [
       "<class 'statsmodels.iolib.summary.Summary'>\n",
       "\"\"\"\n",
       "                                 OLS Regression Results                                \n",
       "=======================================================================================\n",
       "Dep. Variable:                  Votes   R-squared (uncentered):                   0.221\n",
       "Model:                            OLS   Adj. R-squared (uncentered):              0.220\n",
       "Method:                 Least Squares   F-statistic:                              2829.\n",
       "Date:                Wed, 25 Dec 2019   Prob (F-statistic):                        0.00\n",
       "Time:                        18:32:18   Log-Likelihood:                     -1.1849e+05\n",
       "No. Observations:               10000   AIC:                                  2.370e+05\n",
       "Df Residuals:                    9999   BIC:                                  2.370e+05\n",
       "Df Model:                           1                                                  \n",
       "Covariance Type:            nonrobust                                                  \n",
       "==============================================================================\n",
       "                 coef    std err          t      P>|t|      [0.025      0.975]\n",
       "------------------------------------------------------------------------------\n",
       "Rating      2771.9868     52.115     53.190      0.000    2669.831    2874.143\n",
       "==============================================================================\n",
       "Omnibus:                    11448.927   Durbin-Watson:                   0.030\n",
       "Prob(Omnibus):                  0.000   Jarque-Bera (JB):          1297144.076\n",
       "Skew:                           5.966   Prob(JB):                         0.00\n",
       "Kurtosis:                      57.505   Cond. No.                         1.00\n",
       "==============================================================================\n",
       "\n",
       "Warnings:\n",
       "[1] Standard Errors assume that the covariance matrix of the errors is correctly specified.\n",
       "\"\"\""
      ]
     },
     "execution_count": 87,
     "metadata": {},
     "output_type": "execute_result"
    }
   ],
   "source": [
    "results.summary()"
   ]
  },
  {
   "cell_type": "markdown",
   "metadata": {},
   "source": [
    "# Advanced Selection in Pandas"
   ]
  },
  {
   "cell_type": "code",
   "execution_count": 88,
   "metadata": {},
   "outputs": [
    {
     "data": {
      "text/html": [
       "<div>\n",
       "<style scoped>\n",
       "    .dataframe tbody tr th:only-of-type {\n",
       "        vertical-align: middle;\n",
       "    }\n",
       "\n",
       "    .dataframe tbody tr th {\n",
       "        vertical-align: top;\n",
       "    }\n",
       "\n",
       "    .dataframe thead th {\n",
       "        text-align: right;\n",
       "    }\n",
       "</style>\n",
       "<table border=\"1\" class=\"dataframe\">\n",
       "  <thead>\n",
       "    <tr style=\"text-align: right;\">\n",
       "      <th></th>\n",
       "      <th>name</th>\n",
       "      <th>year</th>\n",
       "      <th>Rating</th>\n",
       "      <th>Votes</th>\n",
       "      <th>Time</th>\n",
       "      <th>Genre</th>\n",
       "    </tr>\n",
       "    <tr>\n",
       "      <th>id</th>\n",
       "      <th></th>\n",
       "      <th></th>\n",
       "      <th></th>\n",
       "      <th></th>\n",
       "      <th></th>\n",
       "      <th></th>\n",
       "    </tr>\n",
       "  </thead>\n",
       "  <tbody>\n",
       "    <tr>\n",
       "      <td>tt0137523</td>\n",
       "      <td>Fight Club (1999)</td>\n",
       "      <td>1999</td>\n",
       "      <td>8.8</td>\n",
       "      <td>458173</td>\n",
       "      <td>139 mins.</td>\n",
       "      <td>Drama|Mystery|Thriller</td>\n",
       "    </tr>\n",
       "    <tr>\n",
       "      <td>tt0133093</td>\n",
       "      <td>The Matrix (1999)</td>\n",
       "      <td>1999</td>\n",
       "      <td>8.7</td>\n",
       "      <td>448114</td>\n",
       "      <td>136 mins.</td>\n",
       "      <td>Action|Adventure|Sci-Fi</td>\n",
       "    </tr>\n",
       "    <tr>\n",
       "      <td>tt1375666</td>\n",
       "      <td>Inception (2010)</td>\n",
       "      <td>2010</td>\n",
       "      <td>8.9</td>\n",
       "      <td>385149</td>\n",
       "      <td>148 mins.</td>\n",
       "      <td>Action|Adventure|Sci-Fi|Thriller</td>\n",
       "    </tr>\n",
       "    <tr>\n",
       "      <td>tt0169547</td>\n",
       "      <td>American Beauty (1999)</td>\n",
       "      <td>1999</td>\n",
       "      <td>8.6</td>\n",
       "      <td>338332</td>\n",
       "      <td>122 mins.</td>\n",
       "      <td>Drama</td>\n",
       "    </tr>\n",
       "    <tr>\n",
       "      <td>tt0499549</td>\n",
       "      <td>Avatar (2009)</td>\n",
       "      <td>2009</td>\n",
       "      <td>8.1</td>\n",
       "      <td>336855</td>\n",
       "      <td>162 mins.</td>\n",
       "      <td>Action|Adventure|Fantasy|Sci-Fi</td>\n",
       "    </tr>\n",
       "    <tr>\n",
       "      <td>...</td>\n",
       "      <td>...</td>\n",
       "      <td>...</td>\n",
       "      <td>...</td>\n",
       "      <td>...</td>\n",
       "      <td>...</td>\n",
       "      <td>...</td>\n",
       "    </tr>\n",
       "    <tr>\n",
       "      <td>tt0118635</td>\n",
       "      <td>Aprile (1998)</td>\n",
       "      <td>1998</td>\n",
       "      <td>6.7</td>\n",
       "      <td>1358</td>\n",
       "      <td>78 mins.</td>\n",
       "      <td>Comedy</td>\n",
       "    </tr>\n",
       "    <tr>\n",
       "      <td>tt0807721</td>\n",
       "      <td>Meduzot (2007)</td>\n",
       "      <td>2007</td>\n",
       "      <td>7.0</td>\n",
       "      <td>1357</td>\n",
       "      <td>78 mins.</td>\n",
       "      <td>Drama</td>\n",
       "    </tr>\n",
       "    <tr>\n",
       "      <td>tt0339642</td>\n",
       "      <td>Daltry Calhoun (2005)</td>\n",
       "      <td>2005</td>\n",
       "      <td>5.2</td>\n",
       "      <td>1357</td>\n",
       "      <td>100 mins.</td>\n",
       "      <td>Comedy|Drama|Music|Romance</td>\n",
       "    </tr>\n",
       "    <tr>\n",
       "      <td>tt0152836</td>\n",
       "      <td>Taal (1999)</td>\n",
       "      <td>1999</td>\n",
       "      <td>6.5</td>\n",
       "      <td>1356</td>\n",
       "      <td>179 mins.</td>\n",
       "      <td>Musical|Romance</td>\n",
       "    </tr>\n",
       "    <tr>\n",
       "      <td>tt0279977</td>\n",
       "      <td>The Navigators (2001)</td>\n",
       "      <td>2001</td>\n",
       "      <td>6.9</td>\n",
       "      <td>1356</td>\n",
       "      <td>96 mins.</td>\n",
       "      <td>Comedy|Drama</td>\n",
       "    </tr>\n",
       "  </tbody>\n",
       "</table>\n",
       "<p>5710 rows × 6 columns</p>\n",
       "</div>"
      ],
      "text/plain": [
       "                             name  year  Rating   Votes       Time  \\\n",
       "id                                                                   \n",
       "tt0137523       Fight Club (1999)  1999     8.8  458173  139 mins.   \n",
       "tt0133093       The Matrix (1999)  1999     8.7  448114  136 mins.   \n",
       "tt1375666        Inception (2010)  2010     8.9  385149  148 mins.   \n",
       "tt0169547  American Beauty (1999)  1999     8.6  338332  122 mins.   \n",
       "tt0499549           Avatar (2009)  2009     8.1  336855  162 mins.   \n",
       "...                           ...   ...     ...     ...        ...   \n",
       "tt0118635           Aprile (1998)  1998     6.7    1358   78 mins.   \n",
       "tt0807721          Meduzot (2007)  2007     7.0    1357   78 mins.   \n",
       "tt0339642   Daltry Calhoun (2005)  2005     5.2    1357  100 mins.   \n",
       "tt0152836             Taal (1999)  1999     6.5    1356  179 mins.   \n",
       "tt0279977   The Navigators (2001)  2001     6.9    1356   96 mins.   \n",
       "\n",
       "                                      Genre  \n",
       "id                                           \n",
       "tt0137523            Drama|Mystery|Thriller  \n",
       "tt0133093           Action|Adventure|Sci-Fi  \n",
       "tt1375666  Action|Adventure|Sci-Fi|Thriller  \n",
       "tt0169547                             Drama  \n",
       "tt0499549   Action|Adventure|Fantasy|Sci-Fi  \n",
       "...                                     ...  \n",
       "tt0118635                            Comedy  \n",
       "tt0807721                             Drama  \n",
       "tt0339642        Comedy|Drama|Music|Romance  \n",
       "tt0152836                   Musical|Romance  \n",
       "tt0279977                      Comedy|Drama  \n",
       "\n",
       "[5710 rows x 6 columns]"
      ]
     },
     "execution_count": 88,
     "metadata": {},
     "output_type": "execute_result"
    }
   ],
   "source": [
    "data[data['year'] > 1995]"
   ]
  },
  {
   "cell_type": "code",
   "execution_count": 89,
   "metadata": {},
   "outputs": [
    {
     "data": {
      "text/html": [
       "<div>\n",
       "<style scoped>\n",
       "    .dataframe tbody tr th:only-of-type {\n",
       "        vertical-align: middle;\n",
       "    }\n",
       "\n",
       "    .dataframe tbody tr th {\n",
       "        vertical-align: top;\n",
       "    }\n",
       "\n",
       "    .dataframe thead th {\n",
       "        text-align: right;\n",
       "    }\n",
       "</style>\n",
       "<table border=\"1\" class=\"dataframe\">\n",
       "  <thead>\n",
       "    <tr style=\"text-align: right;\">\n",
       "      <th></th>\n",
       "      <th>name</th>\n",
       "      <th>year</th>\n",
       "      <th>Rating</th>\n",
       "      <th>Votes</th>\n",
       "      <th>Time</th>\n",
       "      <th>Genre</th>\n",
       "    </tr>\n",
       "    <tr>\n",
       "      <th>id</th>\n",
       "      <th></th>\n",
       "      <th></th>\n",
       "      <th></th>\n",
       "      <th></th>\n",
       "      <th></th>\n",
       "      <th></th>\n",
       "    </tr>\n",
       "  </thead>\n",
       "  <tbody>\n",
       "    <tr>\n",
       "      <td>tt0116282</td>\n",
       "      <td>Fargo (1996)</td>\n",
       "      <td>1996</td>\n",
       "      <td>8.3</td>\n",
       "      <td>187498</td>\n",
       "      <td>98 mins.</td>\n",
       "      <td>Crime|Drama|Thriller</td>\n",
       "    </tr>\n",
       "    <tr>\n",
       "      <td>tt0117951</td>\n",
       "      <td>Trainspotting (1996)</td>\n",
       "      <td>1996</td>\n",
       "      <td>8.2</td>\n",
       "      <td>175993</td>\n",
       "      <td>94 mins.</td>\n",
       "      <td>Crime|Drama</td>\n",
       "    </tr>\n",
       "    <tr>\n",
       "      <td>tt0116629</td>\n",
       "      <td>Independence Day (1996)</td>\n",
       "      <td>1996</td>\n",
       "      <td>6.6</td>\n",
       "      <td>171067</td>\n",
       "      <td>145 mins.</td>\n",
       "      <td>Action|Adventure|Sci-Fi|Thriller</td>\n",
       "    </tr>\n",
       "    <tr>\n",
       "      <td>tt0117500</td>\n",
       "      <td>The Rock (1996)</td>\n",
       "      <td>1996</td>\n",
       "      <td>7.3</td>\n",
       "      <td>120384</td>\n",
       "      <td>136 mins.</td>\n",
       "      <td>Action|Thriller</td>\n",
       "    </tr>\n",
       "    <tr>\n",
       "      <td>tt0117571</td>\n",
       "      <td>Scream (1996)</td>\n",
       "      <td>1996</td>\n",
       "      <td>7.2</td>\n",
       "      <td>106216</td>\n",
       "      <td>103 mins.</td>\n",
       "      <td>Crime|Horror|Mystery|Thriller</td>\n",
       "    </tr>\n",
       "    <tr>\n",
       "      <td>...</td>\n",
       "      <td>...</td>\n",
       "      <td>...</td>\n",
       "      <td>...</td>\n",
       "      <td>...</td>\n",
       "      <td>...</td>\n",
       "      <td>...</td>\n",
       "    </tr>\n",
       "    <tr>\n",
       "      <td>tt0117238</td>\n",
       "      <td>Omega Doom (1996)</td>\n",
       "      <td>1996</td>\n",
       "      <td>3.8</td>\n",
       "      <td>1479</td>\n",
       "      <td>00 mins.</td>\n",
       "      <td>Sci-Fi</td>\n",
       "    </tr>\n",
       "    <tr>\n",
       "      <td>tt0118172</td>\n",
       "      <td>The Wind in the Willows (1996)</td>\n",
       "      <td>1996</td>\n",
       "      <td>6.1</td>\n",
       "      <td>1487</td>\n",
       "      <td>88 mins.</td>\n",
       "      <td>Adventure|Family|Fantasy|Musical</td>\n",
       "    </tr>\n",
       "    <tr>\n",
       "      <td>tt0116931</td>\n",
       "      <td>Love and Other Catastrophes (1996)</td>\n",
       "      <td>1996</td>\n",
       "      <td>5.9</td>\n",
       "      <td>1415</td>\n",
       "      <td>76 mins.</td>\n",
       "      <td>Comedy|Romance</td>\n",
       "    </tr>\n",
       "    <tr>\n",
       "      <td>tt0184041</td>\n",
       "      <td>X (1996)</td>\n",
       "      <td>1996</td>\n",
       "      <td>5.9</td>\n",
       "      <td>1384</td>\n",
       "      <td>97 mins.</td>\n",
       "      <td>Animation|Action|Fantasy|Horror|Thriller</td>\n",
       "    </tr>\n",
       "    <tr>\n",
       "      <td>tt0117690</td>\n",
       "      <td>Some Mother's Son (1996)</td>\n",
       "      <td>1996</td>\n",
       "      <td>7.3</td>\n",
       "      <td>1371</td>\n",
       "      <td>112 mins.</td>\n",
       "      <td>Drama</td>\n",
       "    </tr>\n",
       "  </tbody>\n",
       "</table>\n",
       "<p>265 rows × 6 columns</p>\n",
       "</div>"
      ],
      "text/plain": [
       "                                         name  year  Rating   Votes  \\\n",
       "id                                                                    \n",
       "tt0116282                        Fargo (1996)  1996     8.3  187498   \n",
       "tt0117951                Trainspotting (1996)  1996     8.2  175993   \n",
       "tt0116629             Independence Day (1996)  1996     6.6  171067   \n",
       "tt0117500                     The Rock (1996)  1996     7.3  120384   \n",
       "tt0117571                       Scream (1996)  1996     7.2  106216   \n",
       "...                                       ...   ...     ...     ...   \n",
       "tt0117238                   Omega Doom (1996)  1996     3.8    1479   \n",
       "tt0118172      The Wind in the Willows (1996)  1996     6.1    1487   \n",
       "tt0116931  Love and Other Catastrophes (1996)  1996     5.9    1415   \n",
       "tt0184041                            X (1996)  1996     5.9    1384   \n",
       "tt0117690            Some Mother's Son (1996)  1996     7.3    1371   \n",
       "\n",
       "                Time                                     Genre  \n",
       "id                                                              \n",
       "tt0116282   98 mins.                      Crime|Drama|Thriller  \n",
       "tt0117951   94 mins.                               Crime|Drama  \n",
       "tt0116629  145 mins.          Action|Adventure|Sci-Fi|Thriller  \n",
       "tt0117500  136 mins.                           Action|Thriller  \n",
       "tt0117571  103 mins.             Crime|Horror|Mystery|Thriller  \n",
       "...              ...                                       ...  \n",
       "tt0117238   00 mins.                                    Sci-Fi  \n",
       "tt0118172   88 mins.          Adventure|Family|Fantasy|Musical  \n",
       "tt0116931   76 mins.                            Comedy|Romance  \n",
       "tt0184041   97 mins.  Animation|Action|Fantasy|Horror|Thriller  \n",
       "tt0117690  112 mins.                                     Drama  \n",
       "\n",
       "[265 rows x 6 columns]"
      ]
     },
     "execution_count": 89,
     "metadata": {},
     "output_type": "execute_result"
    }
   ],
   "source": [
    "data[data['year'] == 1996]"
   ]
  },
  {
   "cell_type": "code",
   "execution_count": 90,
   "metadata": {},
   "outputs": [
    {
     "data": {
      "text/html": [
       "<div>\n",
       "<style scoped>\n",
       "    .dataframe tbody tr th:only-of-type {\n",
       "        vertical-align: middle;\n",
       "    }\n",
       "\n",
       "    .dataframe tbody tr th {\n",
       "        vertical-align: top;\n",
       "    }\n",
       "\n",
       "    .dataframe thead th {\n",
       "        text-align: right;\n",
       "    }\n",
       "</style>\n",
       "<table border=\"1\" class=\"dataframe\">\n",
       "  <thead>\n",
       "    <tr style=\"text-align: right;\">\n",
       "      <th></th>\n",
       "      <th>name</th>\n",
       "      <th>year</th>\n",
       "      <th>Rating</th>\n",
       "      <th>Votes</th>\n",
       "      <th>Time</th>\n",
       "      <th>Genre</th>\n",
       "    </tr>\n",
       "    <tr>\n",
       "      <th>id</th>\n",
       "      <th></th>\n",
       "      <th></th>\n",
       "      <th></th>\n",
       "      <th></th>\n",
       "      <th></th>\n",
       "      <th></th>\n",
       "    </tr>\n",
       "  </thead>\n",
       "  <tbody>\n",
       "    <tr>\n",
       "      <td>tt0137523</td>\n",
       "      <td>Fight Club (1999)</td>\n",
       "      <td>1999</td>\n",
       "      <td>8.8</td>\n",
       "      <td>458173</td>\n",
       "      <td>139 mins.</td>\n",
       "      <td>Drama|Mystery|Thriller</td>\n",
       "    </tr>\n",
       "    <tr>\n",
       "      <td>tt0133093</td>\n",
       "      <td>The Matrix (1999)</td>\n",
       "      <td>1999</td>\n",
       "      <td>8.7</td>\n",
       "      <td>448114</td>\n",
       "      <td>136 mins.</td>\n",
       "      <td>Action|Adventure|Sci-Fi</td>\n",
       "    </tr>\n",
       "    <tr>\n",
       "      <td>tt0169547</td>\n",
       "      <td>American Beauty (1999)</td>\n",
       "      <td>1999</td>\n",
       "      <td>8.6</td>\n",
       "      <td>338332</td>\n",
       "      <td>122 mins.</td>\n",
       "      <td>Drama</td>\n",
       "    </tr>\n",
       "    <tr>\n",
       "      <td>tt0120338</td>\n",
       "      <td>Titanic (1997)</td>\n",
       "      <td>1997</td>\n",
       "      <td>7.4</td>\n",
       "      <td>284245</td>\n",
       "      <td>194 mins.</td>\n",
       "      <td>Adventure|Drama|History|Romance</td>\n",
       "    </tr>\n",
       "    <tr>\n",
       "      <td>tt0167404</td>\n",
       "      <td>The Sixth Sense (1999)</td>\n",
       "      <td>1999</td>\n",
       "      <td>8.2</td>\n",
       "      <td>278210</td>\n",
       "      <td>107 mins.</td>\n",
       "      <td>Drama|Mystery|Thriller</td>\n",
       "    </tr>\n",
       "    <tr>\n",
       "      <td>...</td>\n",
       "      <td>...</td>\n",
       "      <td>...</td>\n",
       "      <td>...</td>\n",
       "      <td>...</td>\n",
       "      <td>...</td>\n",
       "      <td>...</td>\n",
       "    </tr>\n",
       "    <tr>\n",
       "      <td>tt0117690</td>\n",
       "      <td>Some Mother's Son (1996)</td>\n",
       "      <td>1996</td>\n",
       "      <td>7.3</td>\n",
       "      <td>1371</td>\n",
       "      <td>112 mins.</td>\n",
       "      <td>Drama</td>\n",
       "    </tr>\n",
       "    <tr>\n",
       "      <td>tt0289424</td>\n",
       "      <td>The Ring Virus (1999)</td>\n",
       "      <td>1999</td>\n",
       "      <td>6.5</td>\n",
       "      <td>1371</td>\n",
       "      <td>108 mins.</td>\n",
       "      <td>Horror</td>\n",
       "    </tr>\n",
       "    <tr>\n",
       "      <td>tt0197094</td>\n",
       "      <td>What Becomes of the Broken Hearted? (1999)</td>\n",
       "      <td>1999</td>\n",
       "      <td>6.3</td>\n",
       "      <td>1365</td>\n",
       "      <td>00 mins.</td>\n",
       "      <td>Drama</td>\n",
       "    </tr>\n",
       "    <tr>\n",
       "      <td>tt0118635</td>\n",
       "      <td>Aprile (1998)</td>\n",
       "      <td>1998</td>\n",
       "      <td>6.7</td>\n",
       "      <td>1358</td>\n",
       "      <td>78 mins.</td>\n",
       "      <td>Comedy</td>\n",
       "    </tr>\n",
       "    <tr>\n",
       "      <td>tt0152836</td>\n",
       "      <td>Taal (1999)</td>\n",
       "      <td>1999</td>\n",
       "      <td>6.5</td>\n",
       "      <td>1356</td>\n",
       "      <td>179 mins.</td>\n",
       "      <td>Musical|Romance</td>\n",
       "    </tr>\n",
       "  </tbody>\n",
       "</table>\n",
       "<p>1123 rows × 6 columns</p>\n",
       "</div>"
      ],
      "text/plain": [
       "                                                 name  year  Rating   Votes  \\\n",
       "id                                                                            \n",
       "tt0137523                           Fight Club (1999)  1999     8.8  458173   \n",
       "tt0133093                           The Matrix (1999)  1999     8.7  448114   \n",
       "tt0169547                      American Beauty (1999)  1999     8.6  338332   \n",
       "tt0120338                              Titanic (1997)  1997     7.4  284245   \n",
       "tt0167404                      The Sixth Sense (1999)  1999     8.2  278210   \n",
       "...                                               ...   ...     ...     ...   \n",
       "tt0117690                    Some Mother's Son (1996)  1996     7.3    1371   \n",
       "tt0289424                       The Ring Virus (1999)  1999     6.5    1371   \n",
       "tt0197094  What Becomes of the Broken Hearted? (1999)  1999     6.3    1365   \n",
       "tt0118635                               Aprile (1998)  1998     6.7    1358   \n",
       "tt0152836                                 Taal (1999)  1999     6.5    1356   \n",
       "\n",
       "                Time                            Genre  \n",
       "id                                                     \n",
       "tt0137523  139 mins.           Drama|Mystery|Thriller  \n",
       "tt0133093  136 mins.          Action|Adventure|Sci-Fi  \n",
       "tt0169547  122 mins.                            Drama  \n",
       "tt0120338  194 mins.  Adventure|Drama|History|Romance  \n",
       "tt0167404  107 mins.           Drama|Mystery|Thriller  \n",
       "...              ...                              ...  \n",
       "tt0117690  112 mins.                            Drama  \n",
       "tt0289424  108 mins.                           Horror  \n",
       "tt0197094   00 mins.                            Drama  \n",
       "tt0118635   78 mins.                           Comedy  \n",
       "tt0152836  179 mins.                  Musical|Romance  \n",
       "\n",
       "[1123 rows x 6 columns]"
      ]
     },
     "execution_count": 90,
     "metadata": {},
     "output_type": "execute_result"
    }
   ],
   "source": [
    "data[(data['year'] < 2000) & (data['year'] > 1995) ]"
   ]
  },
  {
   "cell_type": "code",
   "execution_count": 91,
   "metadata": {},
   "outputs": [
    {
     "data": {
      "text/html": [
       "<div>\n",
       "<style scoped>\n",
       "    .dataframe tbody tr th:only-of-type {\n",
       "        vertical-align: middle;\n",
       "    }\n",
       "\n",
       "    .dataframe tbody tr th {\n",
       "        vertical-align: top;\n",
       "    }\n",
       "\n",
       "    .dataframe thead th {\n",
       "        text-align: right;\n",
       "    }\n",
       "</style>\n",
       "<table border=\"1\" class=\"dataframe\">\n",
       "  <thead>\n",
       "    <tr style=\"text-align: right;\">\n",
       "      <th></th>\n",
       "      <th>name</th>\n",
       "      <th>year</th>\n",
       "      <th>Rating</th>\n",
       "      <th>Votes</th>\n",
       "      <th>Time</th>\n",
       "      <th>Genre</th>\n",
       "    </tr>\n",
       "    <tr>\n",
       "      <th>id</th>\n",
       "      <th></th>\n",
       "      <th></th>\n",
       "      <th></th>\n",
       "      <th></th>\n",
       "      <th></th>\n",
       "      <th></th>\n",
       "    </tr>\n",
       "  </thead>\n",
       "  <tbody>\n",
       "    <tr>\n",
       "      <td>tt0137523</td>\n",
       "      <td>Fight Club (1999)</td>\n",
       "      <td>1999</td>\n",
       "      <td>8.8</td>\n",
       "      <td>458173</td>\n",
       "      <td>139 mins.</td>\n",
       "      <td>Drama|Mystery|Thriller</td>\n",
       "    </tr>\n",
       "    <tr>\n",
       "      <td>tt0133093</td>\n",
       "      <td>The Matrix (1999)</td>\n",
       "      <td>1999</td>\n",
       "      <td>8.7</td>\n",
       "      <td>448114</td>\n",
       "      <td>136 mins.</td>\n",
       "      <td>Action|Adventure|Sci-Fi</td>\n",
       "    </tr>\n",
       "    <tr>\n",
       "      <td>tt0120586</td>\n",
       "      <td>American History X (1998)</td>\n",
       "      <td>1998</td>\n",
       "      <td>8.6</td>\n",
       "      <td>270082</td>\n",
       "      <td>119 mins.</td>\n",
       "      <td>Crime|Drama</td>\n",
       "    </tr>\n",
       "    <tr>\n",
       "      <td>tt0169547</td>\n",
       "      <td>American Beauty (1999)</td>\n",
       "      <td>1999</td>\n",
       "      <td>8.6</td>\n",
       "      <td>338332</td>\n",
       "      <td>122 mins.</td>\n",
       "      <td>Drama</td>\n",
       "    </tr>\n",
       "    <tr>\n",
       "      <td>tt0118799</td>\n",
       "      <td>Life Is Beautiful (1997)</td>\n",
       "      <td>1997</td>\n",
       "      <td>8.5</td>\n",
       "      <td>131578</td>\n",
       "      <td>116 mins.</td>\n",
       "      <td>Comedy|Drama|Romance|War</td>\n",
       "    </tr>\n",
       "    <tr>\n",
       "      <td>tt0120815</td>\n",
       "      <td>Saving Private Ryan (1998)</td>\n",
       "      <td>1998</td>\n",
       "      <td>8.5</td>\n",
       "      <td>317912</td>\n",
       "      <td>169 mins.</td>\n",
       "      <td>Action|Drama|History|War</td>\n",
       "    </tr>\n",
       "    <tr>\n",
       "      <td>tt0119488</td>\n",
       "      <td>L.A. Confidential (1997)</td>\n",
       "      <td>1997</td>\n",
       "      <td>8.4</td>\n",
       "      <td>187115</td>\n",
       "      <td>138 mins.</td>\n",
       "      <td>Crime|Drama|Mystery|Thriller</td>\n",
       "    </tr>\n",
       "    <tr>\n",
       "      <td>tt0119698</td>\n",
       "      <td>Princess Mononoke (1997)</td>\n",
       "      <td>1997</td>\n",
       "      <td>8.4</td>\n",
       "      <td>77859</td>\n",
       "      <td>134 mins.</td>\n",
       "      <td>Animation|Adventure|Fantasy</td>\n",
       "    </tr>\n",
       "    <tr>\n",
       "      <td>tt0120689</td>\n",
       "      <td>The Green Mile (1999)</td>\n",
       "      <td>1999</td>\n",
       "      <td>8.4</td>\n",
       "      <td>243660</td>\n",
       "      <td>189 mins.</td>\n",
       "      <td>Crime|Drama|Fantasy|Mystery</td>\n",
       "    </tr>\n",
       "    <tr>\n",
       "      <td>tt0128332</td>\n",
       "      <td>Innocence (1997)</td>\n",
       "      <td>1997</td>\n",
       "      <td>8.3</td>\n",
       "      <td>2402</td>\n",
       "      <td>110 mins.</td>\n",
       "      <td>Drama</td>\n",
       "    </tr>\n",
       "  </tbody>\n",
       "</table>\n",
       "</div>"
      ],
      "text/plain": [
       "                                 name  year  Rating   Votes       Time  \\\n",
       "id                                                                       \n",
       "tt0137523           Fight Club (1999)  1999     8.8  458173  139 mins.   \n",
       "tt0133093           The Matrix (1999)  1999     8.7  448114  136 mins.   \n",
       "tt0120586   American History X (1998)  1998     8.6  270082  119 mins.   \n",
       "tt0169547      American Beauty (1999)  1999     8.6  338332  122 mins.   \n",
       "tt0118799    Life Is Beautiful (1997)  1997     8.5  131578  116 mins.   \n",
       "tt0120815  Saving Private Ryan (1998)  1998     8.5  317912  169 mins.   \n",
       "tt0119488    L.A. Confidential (1997)  1997     8.4  187115  138 mins.   \n",
       "tt0119698    Princess Mononoke (1997)  1997     8.4   77859  134 mins.   \n",
       "tt0120689       The Green Mile (1999)  1999     8.4  243660  189 mins.   \n",
       "tt0128332            Innocence (1997)  1997     8.3    2402  110 mins.   \n",
       "\n",
       "                                  Genre  \n",
       "id                                       \n",
       "tt0137523        Drama|Mystery|Thriller  \n",
       "tt0133093       Action|Adventure|Sci-Fi  \n",
       "tt0120586                   Crime|Drama  \n",
       "tt0169547                         Drama  \n",
       "tt0118799      Comedy|Drama|Romance|War  \n",
       "tt0120815      Action|Drama|History|War  \n",
       "tt0119488  Crime|Drama|Mystery|Thriller  \n",
       "tt0119698   Animation|Adventure|Fantasy  \n",
       "tt0120689   Crime|Drama|Fantasy|Mystery  \n",
       "tt0128332                         Drama  "
      ]
     },
     "execution_count": 91,
     "metadata": {},
     "output_type": "execute_result"
    }
   ],
   "source": [
    "data[(data['year'] < 2000) & (data['year'] > 1995) ].sort_values(by='Rating', ascending=False).head(10)"
   ]
  },
  {
   "cell_type": "markdown",
   "metadata": {},
   "source": [
    "# Pandas GroupBy"
   ]
  },
  {
   "cell_type": "code",
   "execution_count": 92,
   "metadata": {},
   "outputs": [
    {
     "data": {
      "text/plain": [
       "year\n",
       "1950    7.545161\n",
       "1951    7.478125\n",
       "1952    7.475676\n",
       "1953    7.106383\n",
       "1954    7.371795\n",
       "          ...   \n",
       "2007    6.303831\n",
       "2008    6.275260\n",
       "2009    6.287290\n",
       "2010    6.340635\n",
       "2011    6.357143\n",
       "Name: Rating, Length: 62, dtype: float64"
      ]
     },
     "execution_count": 92,
     "metadata": {},
     "output_type": "execute_result"
    }
   ],
   "source": [
    "data.groupby(data['year'])['Rating'].mean()"
   ]
  },
  {
   "cell_type": "code",
   "execution_count": 107,
   "metadata": {},
   "outputs": [
    {
     "data": {
      "text/plain": [
       "year\n",
       "1994    9.2\n",
       "1972    9.2\n",
       "Name: Rating, dtype: float64"
      ]
     },
     "execution_count": 107,
     "metadata": {},
     "output_type": "execute_result"
    }
   ],
   "source": [
    "data.groupby(data['year'])['Rating'].max().sort_values(ascending=False).head(2)"
   ]
  },
  {
   "cell_type": "code",
   "execution_count": 104,
   "metadata": {},
   "outputs": [
    {
     "data": {
      "text/html": [
       "<div>\n",
       "<style scoped>\n",
       "    .dataframe tbody tr th:only-of-type {\n",
       "        vertical-align: middle;\n",
       "    }\n",
       "\n",
       "    .dataframe tbody tr th {\n",
       "        vertical-align: top;\n",
       "    }\n",
       "\n",
       "    .dataframe thead th {\n",
       "        text-align: right;\n",
       "    }\n",
       "</style>\n",
       "<table border=\"1\" class=\"dataframe\">\n",
       "  <thead>\n",
       "    <tr style=\"text-align: right;\">\n",
       "      <th></th>\n",
       "      <th>name</th>\n",
       "      <th>year</th>\n",
       "      <th>Rating</th>\n",
       "      <th>Votes</th>\n",
       "      <th>Time</th>\n",
       "      <th>Genre</th>\n",
       "    </tr>\n",
       "    <tr>\n",
       "      <th>id</th>\n",
       "      <th></th>\n",
       "      <th></th>\n",
       "      <th></th>\n",
       "      <th></th>\n",
       "      <th></th>\n",
       "      <th></th>\n",
       "    </tr>\n",
       "  </thead>\n",
       "  <tbody>\n",
       "    <tr>\n",
       "      <td>tt0116282</td>\n",
       "      <td>Fargo (1996)</td>\n",
       "      <td>1996</td>\n",
       "      <td>8.3</td>\n",
       "      <td>187498</td>\n",
       "      <td>98 mins.</td>\n",
       "      <td>Crime|Drama|Thriller</td>\n",
       "    </tr>\n",
       "    <tr>\n",
       "      <td>tt0117951</td>\n",
       "      <td>Trainspotting (1996)</td>\n",
       "      <td>1996</td>\n",
       "      <td>8.2</td>\n",
       "      <td>175993</td>\n",
       "      <td>94 mins.</td>\n",
       "      <td>Crime|Drama</td>\n",
       "    </tr>\n",
       "  </tbody>\n",
       "</table>\n",
       "</div>"
      ],
      "text/plain": [
       "                           name  year  Rating   Votes      Time  \\\n",
       "id                                                                \n",
       "tt0116282          Fargo (1996)  1996     8.3  187498  98 mins.   \n",
       "tt0117951  Trainspotting (1996)  1996     8.2  175993  94 mins.   \n",
       "\n",
       "                          Genre  \n",
       "id                               \n",
       "tt0116282  Crime|Drama|Thriller  \n",
       "tt0117951           Crime|Drama  "
      ]
     },
     "execution_count": 104,
     "metadata": {},
     "output_type": "execute_result"
    }
   ],
   "source": [
    "data[data['year'] == 1996].sort_values(by='Votes' ,ascending=False).head(2)"
   ]
  },
  {
   "cell_type": "code",
   "execution_count": 95,
   "metadata": {},
   "outputs": [
    {
     "data": {
      "text/plain": [
       "name\n",
       "The Godfather (1972)                     9.2\n",
       "The Shawshank Redemption (1994)          9.2\n",
       "The Good, the Bad and the Ugly (1966)    9.0\n",
       "Pulp Fiction (1994)                      9.0\n",
       "Outrageous Class (1975)                  9.0\n",
       "Name: Rating, dtype: float64"
      ]
     },
     "execution_count": 95,
     "metadata": {},
     "output_type": "execute_result"
    }
   ],
   "source": [
    "data.groupby(data['name'])['Rating'].max().sort_values(ascending=False).head(5)"
   ]
  },
  {
   "cell_type": "code",
   "execution_count": 96,
   "metadata": {},
   "outputs": [
    {
     "data": {
      "text/html": [
       "<div>\n",
       "<style scoped>\n",
       "    .dataframe tbody tr th:only-of-type {\n",
       "        vertical-align: middle;\n",
       "    }\n",
       "\n",
       "    .dataframe tbody tr th {\n",
       "        vertical-align: top;\n",
       "    }\n",
       "\n",
       "    .dataframe thead th {\n",
       "        text-align: right;\n",
       "    }\n",
       "</style>\n",
       "<table border=\"1\" class=\"dataframe\">\n",
       "  <thead>\n",
       "    <tr style=\"text-align: right;\">\n",
       "      <th></th>\n",
       "      <th>name</th>\n",
       "      <th>year</th>\n",
       "      <th>Rating</th>\n",
       "      <th>Votes</th>\n",
       "      <th>Time</th>\n",
       "      <th>Genre</th>\n",
       "    </tr>\n",
       "    <tr>\n",
       "      <th>id</th>\n",
       "      <th></th>\n",
       "      <th></th>\n",
       "      <th></th>\n",
       "      <th></th>\n",
       "      <th></th>\n",
       "      <th></th>\n",
       "    </tr>\n",
       "  </thead>\n",
       "  <tbody>\n",
       "    <tr>\n",
       "      <td>tt0111161</td>\n",
       "      <td>The Shawshank Redemption (1994)</td>\n",
       "      <td>1994</td>\n",
       "      <td>9.2</td>\n",
       "      <td>619479</td>\n",
       "      <td>142 mins.</td>\n",
       "      <td>Crime|Drama</td>\n",
       "    </tr>\n",
       "    <tr>\n",
       "      <td>tt0110912</td>\n",
       "      <td>Pulp Fiction (1994)</td>\n",
       "      <td>1994</td>\n",
       "      <td>9.0</td>\n",
       "      <td>490065</td>\n",
       "      <td>154 mins.</td>\n",
       "      <td>Crime|Thriller</td>\n",
       "    </tr>\n",
       "    <tr>\n",
       "      <td>tt0137523</td>\n",
       "      <td>Fight Club (1999)</td>\n",
       "      <td>1999</td>\n",
       "      <td>8.8</td>\n",
       "      <td>458173</td>\n",
       "      <td>139 mins.</td>\n",
       "      <td>Drama|Mystery|Thriller</td>\n",
       "    </tr>\n",
       "    <tr>\n",
       "      <td>tt0133093</td>\n",
       "      <td>The Matrix (1999)</td>\n",
       "      <td>1999</td>\n",
       "      <td>8.7</td>\n",
       "      <td>448114</td>\n",
       "      <td>136 mins.</td>\n",
       "      <td>Action|Adventure|Sci-Fi</td>\n",
       "    </tr>\n",
       "    <tr>\n",
       "      <td>tt1375666</td>\n",
       "      <td>Inception (2010)</td>\n",
       "      <td>2010</td>\n",
       "      <td>8.9</td>\n",
       "      <td>385149</td>\n",
       "      <td>148 mins.</td>\n",
       "      <td>Action|Adventure|Sci-Fi|Thriller</td>\n",
       "    </tr>\n",
       "    <tr>\n",
       "      <td>...</td>\n",
       "      <td>...</td>\n",
       "      <td>...</td>\n",
       "      <td>...</td>\n",
       "      <td>...</td>\n",
       "      <td>...</td>\n",
       "      <td>...</td>\n",
       "    </tr>\n",
       "    <tr>\n",
       "      <td>tt0807721</td>\n",
       "      <td>Meduzot (2007)</td>\n",
       "      <td>2007</td>\n",
       "      <td>7.0</td>\n",
       "      <td>1357</td>\n",
       "      <td>78 mins.</td>\n",
       "      <td>Drama</td>\n",
       "    </tr>\n",
       "    <tr>\n",
       "      <td>tt0339642</td>\n",
       "      <td>Daltry Calhoun (2005)</td>\n",
       "      <td>2005</td>\n",
       "      <td>5.2</td>\n",
       "      <td>1357</td>\n",
       "      <td>100 mins.</td>\n",
       "      <td>Comedy|Drama|Music|Romance</td>\n",
       "    </tr>\n",
       "    <tr>\n",
       "      <td>tt0060880</td>\n",
       "      <td>The Quiller Memorandum (1966)</td>\n",
       "      <td>1966</td>\n",
       "      <td>6.5</td>\n",
       "      <td>1356</td>\n",
       "      <td>104 mins.</td>\n",
       "      <td>Drama|Mystery|Thriller</td>\n",
       "    </tr>\n",
       "    <tr>\n",
       "      <td>tt0152836</td>\n",
       "      <td>Taal (1999)</td>\n",
       "      <td>1999</td>\n",
       "      <td>6.5</td>\n",
       "      <td>1356</td>\n",
       "      <td>179 mins.</td>\n",
       "      <td>Musical|Romance</td>\n",
       "    </tr>\n",
       "    <tr>\n",
       "      <td>tt0279977</td>\n",
       "      <td>The Navigators (2001)</td>\n",
       "      <td>2001</td>\n",
       "      <td>6.9</td>\n",
       "      <td>1356</td>\n",
       "      <td>96 mins.</td>\n",
       "      <td>Comedy|Drama</td>\n",
       "    </tr>\n",
       "  </tbody>\n",
       "</table>\n",
       "<p>10000 rows × 6 columns</p>\n",
       "</div>"
      ],
      "text/plain": [
       "                                      name  year  Rating   Votes       Time  \\\n",
       "id                                                                            \n",
       "tt0111161  The Shawshank Redemption (1994)  1994     9.2  619479  142 mins.   \n",
       "tt0110912              Pulp Fiction (1994)  1994     9.0  490065  154 mins.   \n",
       "tt0137523                Fight Club (1999)  1999     8.8  458173  139 mins.   \n",
       "tt0133093                The Matrix (1999)  1999     8.7  448114  136 mins.   \n",
       "tt1375666                 Inception (2010)  2010     8.9  385149  148 mins.   \n",
       "...                                    ...   ...     ...     ...        ...   \n",
       "tt0807721                   Meduzot (2007)  2007     7.0    1357   78 mins.   \n",
       "tt0339642            Daltry Calhoun (2005)  2005     5.2    1357  100 mins.   \n",
       "tt0060880    The Quiller Memorandum (1966)  1966     6.5    1356  104 mins.   \n",
       "tt0152836                      Taal (1999)  1999     6.5    1356  179 mins.   \n",
       "tt0279977            The Navigators (2001)  2001     6.9    1356   96 mins.   \n",
       "\n",
       "                                      Genre  \n",
       "id                                           \n",
       "tt0111161                       Crime|Drama  \n",
       "tt0110912                    Crime|Thriller  \n",
       "tt0137523            Drama|Mystery|Thriller  \n",
       "tt0133093           Action|Adventure|Sci-Fi  \n",
       "tt1375666  Action|Adventure|Sci-Fi|Thriller  \n",
       "...                                     ...  \n",
       "tt0807721                             Drama  \n",
       "tt0339642        Comedy|Drama|Music|Romance  \n",
       "tt0060880            Drama|Mystery|Thriller  \n",
       "tt0152836                   Musical|Romance  \n",
       "tt0279977                      Comedy|Drama  \n",
       "\n",
       "[10000 rows x 6 columns]"
      ]
     },
     "execution_count": 96,
     "metadata": {},
     "output_type": "execute_result"
    }
   ],
   "source": [
    "data"
   ]
  },
  {
   "cell_type": "code",
   "execution_count": 111,
   "metadata": {},
   "outputs": [
    {
     "ename": "SyntaxError",
     "evalue": "unexpected EOF while parsing (<ipython-input-111-31375e00777d>, line 1)",
     "output_type": "error",
     "traceback": [
      "\u001b[0;36m  File \u001b[0;32m\"<ipython-input-111-31375e00777d>\"\u001b[0;36m, line \u001b[0;32m1\u001b[0m\n\u001b[0;31m    data[(data['year'] >= 1960) & data[(data['year']<1970)].groupby(data['year'])['Rating'].mean()\u001b[0m\n\u001b[0m                                                                                                  ^\u001b[0m\n\u001b[0;31mSyntaxError\u001b[0m\u001b[0;31m:\u001b[0m unexpected EOF while parsing\n"
     ]
    }
   ],
   "source": [
    "data[(data['year'] >= 1960) & data[(data['year']<1970)].groupby(data['year'])['Rating'].mean()"
   ]
  },
  {
   "cell_type": "code",
   "execution_count": null,
   "metadata": {},
   "outputs": [],
   "source": []
  }
 ],
 "metadata": {
  "kernelspec": {
   "display_name": "Python 3",
   "language": "python",
   "name": "python3"
  },
  "language_info": {
   "codemirror_mode": {
    "name": "ipython",
    "version": 3
   },
   "file_extension": ".py",
   "mimetype": "text/x-python",
   "name": "python",
   "nbconvert_exporter": "python",
   "pygments_lexer": "ipython3",
   "version": "3.7.4"
  }
 },
 "nbformat": 4,
 "nbformat_minor": 2
}
